{
 "cells": [
  {
   "cell_type": "code",
   "execution_count": null,
   "metadata": {},
   "outputs": [],
   "source": [
    "import pandas as pd\n",
    "import json\n",
    "import os\n",
    "df= pd.read_excel('elastic_Search_Data.xlsx')#put the file name here\n",
    "questions=df[\"Possible Questions\"]\n",
    "answers=df[\"para_text\"]\n",
    "frame = { 'questions': questions, 'answers': answers}\n",
    "df1=pd.DataFrame(frame)\n",
    "df1.dropna(inplace=True)\n",
    "df1.reset_index(drop=True, inplace=True)\n",
    "a=df1.to_json(index=False,orient=\"table\")\n",
    "no=a.find(\"\"\"data\":\"\"\")\n",
    "no=no+len(\"\"\"data\":\"\"\")\n",
    "a=a[no:-1]\n",
    "x=json.loads(a)"
   ]
  },
  {
   "cell_type": "code",
   "execution_count": null,
   "metadata": {},
   "outputs": [],
   "source": [
    "import elasticsearch\n",
    "from elasticsearch import Elasticsearch \n",
    "import pandas as pd\n",
    "\n",
    "es = Elasticsearch([{'host': 'localhost', 'port': 9200}])"
   ]
  },
  {
   "cell_type": "code",
   "execution_count": null,
   "metadata": {},
   "outputs": [],
   "source": [
    "es.indices.create(index='data', ignore=400)\n",
    "for i in range(len(x)):\n",
    "    res=es.index(index='data',doc_type='review', body=x[i])"
   ]
  },
  {
   "cell_type": "code",
   "execution_count": null,
   "metadata": {},
   "outputs": [],
   "source": [
    "query={\"query\" : {\n",
    "        \"match\" : {\n",
    "            'questions':'Who is ATACAND conracindicated in canada'\n",
    "        }\n",
    "    }}\n",
    "es.search(index='data',doc_type='review', body=query, size=10)"
   ]
  }
 ],
 "metadata": {
  "kernelspec": {
   "display_name": "Python 3",
   "language": "python",
   "name": "python3"
  },
  "language_info": {
   "codemirror_mode": {
    "name": "ipython",
    "version": 3
   },
   "file_extension": ".py",
   "mimetype": "text/x-python",
   "name": "python",
   "nbconvert_exporter": "python",
   "pygments_lexer": "ipython3",
   "version": "3.7.3"
  }
 },
 "nbformat": 4,
 "nbformat_minor": 2
}
