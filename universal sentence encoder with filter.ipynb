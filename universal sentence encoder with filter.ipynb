{
 "cells": [
  {
   "cell_type": "code",
   "execution_count": null,
   "metadata": {},
   "outputs": [],
   "source": [
    "try:\n",
    "    import elasticsearch\n",
    "    from elasticsearch import Elasticsearch\n",
    "    \n",
    "    import pandas as pd\n",
    "    import json\n",
    "    from ast import literal_eval\n",
    "    from tqdm import tqdm\n",
    "    import datetime\n",
    "    import os\n",
    "    import sys\n",
    "    \n",
    "    import os\n",
    "    import tensorflow.compat.v1 as tf\n",
    "    tf.disable_v2_behavior()\n",
    "    import tensorflow_hub as hub\n",
    "    import numpy as np\n",
    "    \n",
    "    from elasticsearch import helpers\n",
    "    print(\"Loaded  .. . . . . . . .\")\n",
    "except Exception as E:\n",
    "    print(\"Some Modules are Missing {} \".format(E))"
   ]
  },
  {
   "cell_type": "code",
   "execution_count": null,
   "metadata": {},
   "outputs": [],
   "source": [
    "tf.__version__\n"
   ]
  },
  {
   "cell_type": "code",
   "execution_count": null,
   "metadata": {},
   "outputs": [],
   "source": [
    "df = pd.read_csv(\"val_knowledgebase.csv\")\n",
    "print(\"read\")"
   ]
  },
  {
   "cell_type": "code",
   "execution_count": null,
   "metadata": {},
   "outputs": [],
   "source": [
    "df.head()"
   ]
  },
  {
   "cell_type": "code",
   "execution_count": null,
   "metadata": {},
   "outputs": [],
   "source": [
    "graph = tf.Graph()\n",
    "with tf.Session(graph = graph) as session:\n",
    "    print(\"Downloading pre-trained embeddings from tensorflow hub…\")\n",
    "    embed = hub.Module(\"https://tfhub.dev/google/universal-sentence-encoder/2\")\n",
    "    text_ph = tf.placeholder(tf.string)\n",
    "    embeddings = embed(text_ph)\n",
    "    print(\"Done.\")\n",
    "    print(\"Creating tensorflow session…\")\n",
    "    session = tf.Session()\n",
    "    session.run(tf.global_variables_initializer())\n",
    "    session.run(tf.tables_initializer())\n",
    "    print(\"Done.\")"
   ]
  },
  {
   "cell_type": "code",
   "execution_count": null,
   "metadata": {},
   "outputs": [],
   "source": [
    "def embed_text(text):\n",
    "    text=[text]\n",
    "    vectors = session.run(embeddings, feed_dict={text_ph: text})\n",
    "    temp= [vector.tolist() for vector in vectors]\n",
    "    return temp[0]"
   ]
  },
  {
   "cell_type": "code",
   "execution_count": null,
   "metadata": {},
   "outputs": [],
   "source": [
    "df[\"universal_vector_question\"] = df[\"query\"].apply(embed_text)"
   ]
  },
  {
   "cell_type": "code",
   "execution_count": null,
   "metadata": {},
   "outputs": [],
   "source": [
    "df[\"universal_vector_answer\"] = df[\"atom\"].apply(embed_text)"
   ]
  },
  {
   "cell_type": "code",
   "execution_count": null,
   "metadata": {},
   "outputs": [],
   "source": [
    "df.head()"
   ]
  },
  {
   "cell_type": "code",
   "execution_count": null,
   "metadata": {},
   "outputs": [],
   "source": [
    "qu=df[\"universal_vector_question\"]"
   ]
  },
  {
   "cell_type": "code",
   "execution_count": null,
   "metadata": {},
   "outputs": [],
   "source": [
    "an=df[\"universal_vector_answer\"]"
   ]
  },
  {
   "cell_type": "code",
   "execution_count": null,
   "metadata": {},
   "outputs": [],
   "source": [
    "len(an)"
   ]
  },
  {
   "cell_type": "code",
   "execution_count": null,
   "metadata": {},
   "outputs": [],
   "source": [
    "df[\"universal_vector_question\"].to_pickle(\"/home/srinivas/Desktop/validation_arrays/use/universal_question_series.pkl\")"
   ]
  },
  {
   "cell_type": "code",
   "execution_count": null,
   "metadata": {},
   "outputs": [],
   "source": [
    "df[\"universal_vector_answer\"].to_pickle(\"/home/srinivas/Desktop/validation_arrays/use/universal_answer_series.pkl\")"
   ]
  },
  {
   "cell_type": "code",
   "execution_count": null,
   "metadata": {},
   "outputs": [],
   "source": [
    "import pickle\n",
    "with open('/home/srinivas/Desktop/validation_arrays/use/universal_question_series.pkl','rb') as f:\n",
    "     use_ans77 = pickle.load(f)"
   ]
  },
  {
   "cell_type": "code",
   "execution_count": null,
   "metadata": {},
   "outputs": [],
   "source": [
    "len(use_ans77)"
   ]
  },
  {
   "cell_type": "code",
   "execution_count": null,
   "metadata": {},
   "outputs": [],
   "source": [
    "len(df[\"universal_vector\"][0])"
   ]
  },
  {
   "cell_type": "code",
   "execution_count": null,
   "metadata": {},
   "outputs": [],
   "source": [
    "Settings = {\n",
    "   \"settings\":{\n",
    "      \"number_of_shards\":1,\n",
    "      \"number_of_replicas\":0\n",
    "   },\n",
    "   \"mappings\":{\n",
    "       \"dynamic\": \"true\",\n",
    "        \"_source\": {\n",
    "        \"enabled\": \"true\"\n",
    "        },\n",
    "       \"properties\":{\n",
    "            \"answer\": {\n",
    "            \"type\": \"text\"\n",
    "            },\n",
    "          \"universal_vector\":{\n",
    "         \"type\":\"dense_vector\",\n",
    "         \"dims\":512\n",
    "      }, \n",
    "            \"country\":{  \n",
    "            \"type\":\"keyword\"\n",
    "         },   \n",
    "          \"product\":{  \n",
    "            \"type\":\"keyword\"\n",
    "         }\n",
    "      \n",
    "    }\n",
    "   }\n",
    "}"
   ]
  },
  {
   "cell_type": "code",
   "execution_count": null,
   "metadata": {},
   "outputs": [],
   "source": [
    "ENDPOINT = \"http://localhost:9200/\"\n",
    "es = Elasticsearch(timeout=600,hosts=ENDPOINT)\n",
    "print(\"python client created\")"
   ]
  },
  {
   "cell_type": "code",
   "execution_count": null,
   "metadata": {},
   "outputs": [],
   "source": [
    "#creating the database\n",
    "IndexName = 'use_vector1'\n",
    "my = es.indices.create(index=IndexName, ignore=[400,404], body=Settings)"
   ]
  },
  {
   "cell_type": "code",
   "execution_count": null,
   "metadata": {},
   "outputs": [],
   "source": [
    "my"
   ]
  },
  {
   "cell_type": "code",
   "execution_count": null,
   "metadata": {},
   "outputs": [],
   "source": [
    "df.columns"
   ]
  },
  {
   "cell_type": "code",
   "execution_count": null,
   "metadata": {},
   "outputs": [],
   "source": [
    "df22 = df.to_dict('records')\n",
    "df22"
   ]
  },
  {
   "cell_type": "code",
   "execution_count": null,
   "metadata": {},
   "outputs": [],
   "source": [
    "arr=[]\n",
    "for c, line in enumerate(df22):\n",
    "    arr.append({\"answer\":line.get(\"para_text\",\"\"),\n",
    "    'universal_vector':line.get('universal_vector', \"\"),\n",
    "    'country':line.get(\"country\",\"\").lower().strip(),\n",
    "    'product':line.get(\"Product name\",\"\").lower().strip()})\n"
   ]
  },
  {
   "cell_type": "code",
   "execution_count": null,
   "metadata": {},
   "outputs": [],
   "source": [
    "arr"
   ]
  },
  {
   "cell_type": "code",
   "execution_count": null,
   "metadata": {},
   "outputs": [],
   "source": [
    "#inserting into the database\n",
    "#doc_type similar to table in rdbms\n",
    "\n",
    "for i in range(0,len(arr)):\n",
    "\n",
    "    resp=es.index(index=IndexName,doc_type=\"_doc\",id=i,body=arr[i])"
   ]
  },
  {
   "cell_type": "code",
   "execution_count": null,
   "metadata": {},
   "outputs": [],
   "source": [
    "resp"
   ]
  },
  {
   "cell_type": "code",
   "execution_count": null,
   "metadata": {},
   "outputs": [],
   "source": [
    "es.indices.get_mapping(index=IndexName)"
   ]
  },
  {
   "cell_type": "code",
   "execution_count": null,
   "metadata": {},
   "outputs": [],
   "source": [
    "#testing\n",
    "que = \"what is ATACAND used for in america?\""
   ]
  },
  {
   "cell_type": "code",
   "execution_count": null,
   "metadata": {},
   "outputs": [],
   "source": [
    "que_vec=embed_text(que)"
   ]
  },
  {
   "cell_type": "code",
   "execution_count": null,
   "metadata": {},
   "outputs": [],
   "source": [
    "que_vec"
   ]
  },
  {
   "cell_type": "code",
   "execution_count": null,
   "metadata": {},
   "outputs": [],
   "source": [
    "len(que_vec)"
   ]
  },
  {
   "cell_type": "code",
   "execution_count": null,
   "metadata": {},
   "outputs": [],
   "source": [
    "temp_prod=df[\"Product name\"]\n",
    "temp_country=df[\"country\"]"
   ]
  },
  {
   "cell_type": "code",
   "execution_count": null,
   "metadata": {},
   "outputs": [],
   "source": [
    "set(temp_prod)"
   ]
  },
  {
   "cell_type": "code",
   "execution_count": null,
   "metadata": {},
   "outputs": [],
   "source": [
    "set(temp_country)"
   ]
  },
  {
   "cell_type": "code",
   "execution_count": null,
   "metadata": {},
   "outputs": [],
   "source": [
    "\n",
    "script_query = {\n",
    "\"script_score\": {\n",
    "\"query\": {\"term\":{  \n",
    "         \"country\":{  \n",
    "            \"value\":\"canada\"\n",
    "         }},\n",
    "      \"term\":{\"product\":{\n",
    "             \"value\":\"candesartan cilexetil\"   \n",
    "            }}},\n",
    "\"script\": {\n",
    "\"source\": \"Math.abs(cosineSimilarity(params.query_vector, doc['universal_vector']))\",\n",
    "\"params\": {\"query_vector\": que_vec }\n",
    "}}}"
   ]
  },
  {
   "cell_type": "code",
   "execution_count": null,
   "metadata": {},
   "outputs": [],
   "source": [
    "ans=es.search(index=IndexName,body={\"size\": 10,\"query\": script_query,\"_source\": {\"includes\": [\"answer\"]}})\n",
    "ans"
   ]
  },
  {
   "cell_type": "code",
   "execution_count": null,
   "metadata": {},
   "outputs": [],
   "source": [
    "def questions():\n",
    "    count=0\n",
    "    que_arr=[]\n",
    "    for x in df[\"Possible Questions\"]:\n",
    "        sent=x.split(\"\\n\")\n",
    "        for q in sent:\n",
    "            if re.search('[a-zA-Z]',q)!=None:\n",
    "                que_arr.append([q,count])\n",
    "        count+=1\n",
    "    return que_arr"
   ]
  },
  {
   "cell_type": "code",
   "execution_count": null,
   "metadata": {},
   "outputs": [],
   "source": [
    "import re"
   ]
  },
  {
   "cell_type": "code",
   "execution_count": null,
   "metadata": {},
   "outputs": [],
   "source": [
    "que_arr=questions()"
   ]
  },
  {
   "cell_type": "code",
   "execution_count": null,
   "metadata": {},
   "outputs": [],
   "source": [
    "que_arr"
   ]
  },
  {
   "cell_type": "code",
   "execution_count": null,
   "metadata": {},
   "outputs": [],
   "source": [
    "len(que_arr)"
   ]
  },
  {
   "cell_type": "code",
   "execution_count": null,
   "metadata": {},
   "outputs": [],
   "source": [
    "def rank(ans):\n",
    "    required=ans['hits']\n",
    "    main_arr=required[\"hits\"]\n",
    "    count=1\n",
    "    ids__=dict()\n",
    "    for x in main_arr:\n",
    "        id_no= x[\"_id\"]\n",
    "\n",
    "        score=x[\"_score\"]\n",
    "\n",
    "        answer_=x[\"_source\"][\"answer\"]\n",
    "\n",
    "        ids__[id_no.strip()]=1/count\n",
    "        count+=1\n",
    "    return ids__\n",
    "    "
   ]
  },
  {
   "cell_type": "code",
   "execution_count": null,
   "metadata": {},
   "outputs": [],
   "source": [
    "ranker=rank(ans)"
   ]
  },
  {
   "cell_type": "code",
   "execution_count": null,
   "metadata": {},
   "outputs": [],
   "source": [
    "ranker"
   ]
  },
  {
   "cell_type": "code",
   "execution_count": null,
   "metadata": {},
   "outputs": [],
   "source": [
    "total=0\n",
    "count=0\n",
    "recall_count=0\n",
    "for x in que_arr:\n",
    "    question=x[0].strip()\n",
    "    print(question)\n",
    "    id_number=str(x[1])\n",
    "    que_vec=embed_text(question)\n",
    "    #print(que_vec)\n",
    "    script_query = {\n",
    "    \"script_score\": {\n",
    "    \"query\": {\"term\":{  \n",
    "             \"country\":{  \n",
    "                \"value\":\"canada\"\n",
    "             }},\n",
    "          \"term\":{\"product\":{\n",
    "                 \"value\":\"candesartan cilexetil\"   \n",
    "                }}},\n",
    "    \"script\": {\n",
    "    \"source\": \"Math.abs(cosineSimilarity(params.query_vector, doc['universal_vector']))\",\n",
    "    \"params\": {\"query_vector\": que_vec}\n",
    "    }}}\n",
    "    ans=es.search(index=IndexName,body={\"size\": 10,\"query\": script_query,\"_source\": {\"includes\": [\"answer\"]}})\n",
    "    ranker=rank(ans)\n",
    "    if id_number in ranker:\n",
    "        total+=ranker[id_number]\n",
    "        print(ranker[id_number])\n",
    "        recall_count+=1\n",
    "    else:\n",
    "        print(0)\n",
    "    count+=1\n",
    "\n",
    "print(\"mrr is\"+str(total/count))\n",
    "print(\"recall is\"+str(recall_count/count))"
   ]
  },
  {
   "cell_type": "code",
   "execution_count": null,
   "metadata": {},
   "outputs": [],
   "source": []
  }
 ],
 "metadata": {
  "kernelspec": {
   "display_name": "biobert",
   "language": "python",
   "name": "success"
  },
  "language_info": {
   "codemirror_mode": {
    "name": "ipython",
    "version": 3
   },
   "file_extension": ".py",
   "mimetype": "text/x-python",
   "name": "python",
   "nbconvert_exporter": "python",
   "pygments_lexer": "ipython3",
   "version": "3.6.12"
  }
 },
 "nbformat": 4,
 "nbformat_minor": 4
}
